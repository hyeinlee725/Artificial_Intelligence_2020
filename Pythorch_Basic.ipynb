{
 "cells": [
  {
   "cell_type": "markdown",
   "metadata": {},
   "source": [
    "## 3. 파이토치 기초"
   ]
  },
  {
   "cell_type": "code",
   "execution_count": 3,
   "metadata": {},
   "outputs": [],
   "source": [
    "import torch\n",
    "import numpy as np\n",
    "\n",
    "def print_val (x):\n",
    "    print \"Type:\", type(x)\n",
    "    print \"Shape:\", x.shape\n",
    "    print \"값:\\n\", x\n",
    "    print \" \""
   ]
  },
  {
   "cell_type": "code",
   "execution_count": 4,
   "metadata": {},
   "outputs": [
    {
     "name": "stdout",
     "output_type": "stream",
     "text": [
      "Type: <class 'torch.Tensor'>\n",
      "Shape: torch.Size([2, 3, 2])\n",
      "값:\n",
      "tensor([[[0.6716, 0.4629],\n",
      "         [0.3242, 0.4107],\n",
      "         [0.7291, 0.1032]],\n",
      "\n",
      "        [[0.4458, 0.2384],\n",
      "         [0.6284, 0.1549],\n",
      "         [0.1012, 0.0491]]])\n",
      " \n",
      "Type: <class 'torch.Tensor'>\n",
      "Shape: torch.Size([2, 3])\n",
      "값:\n",
      "tensor([[ 0.4136,  1.0441, -0.4847],\n",
      "        [ 0.1518, -0.4899,  0.9852]])\n",
      " \n"
     ]
    }
   ],
   "source": [
    "x = torch.rand(2,3,2) #uniform: 0~1 사이 모든 값들이 나올 확률이 같음\n",
    "print_val(x)\n",
    "\n",
    "x = torch.randn(2,3)\n",
    "print_val(x)"
   ]
  },
  {
   "cell_type": "code",
   "execution_count": 5,
   "metadata": {},
   "outputs": [
    {
     "name": "stdout",
     "output_type": "stream",
     "text": [
      "Type: <class 'torch.Tensor'>\n",
      "Shape: torch.Size([4])\n",
      "값:\n",
      "tensor([3, 2, 0, 1])\n",
      " \n"
     ]
    }
   ],
   "source": [
    "x = torch.randperm(4) # 0~ n-1 까지 값을 원소로 갖는 배열 -> 랜덤 배열\n",
    "print_val(x)"
   ]
  },
  {
   "cell_type": "code",
   "execution_count": 6,
   "metadata": {},
   "outputs": [
    {
     "name": "stdout",
     "output_type": "stream",
     "text": [
      "Type: <class 'torch.Tensor'>\n",
      "Shape: torch.Size([6])\n",
      "값:\n",
      "tensor([0.0000, 0.5000, 1.0000, 1.5000, 2.0000, 2.5000])\n",
      " \n"
     ]
    }
   ],
   "source": [
    "# [start, end)구간을 step 단위로 나눠서 배열로 생성\n",
    "x = torch.arange(0, 3, step=0.5)\n",
    "print_val(x)"
   ]
  },
  {
   "cell_type": "code",
   "execution_count": 7,
   "metadata": {},
   "outputs": [
    {
     "name": "stdout",
     "output_type": "stream",
     "text": [
      "Type: <class 'torch.Tensor'>\n",
      "Shape: torch.Size([3, 4])\n",
      "값:\n",
      "tensor([[1., 1., 1., 1.],\n",
      "        [1., 1., 1., 1.],\n",
      "        [1., 1., 1., 1.]])\n",
      " \n",
      "Type: <class 'torch.Tensor'>\n",
      "Shape: torch.Size([3, 4])\n",
      "값:\n",
      "tensor([[0., 0., 0., 0.],\n",
      "        [0., 0., 0., 0.],\n",
      "        [0., 0., 0., 0.]])\n",
      " \n"
     ]
    }
   ],
   "source": [
    "print_val(torch.ones(3,4))\n",
    "print_val(torch.zeros(3,4))"
   ]
  },
  {
   "cell_type": "code",
   "execution_count": 8,
   "metadata": {},
   "outputs": [
    {
     "name": "stdout",
     "output_type": "stream",
     "text": [
      "Type: <class 'torch.Tensor'>\n",
      "Shape: torch.Size([2, 4])\n",
      "값:\n",
      "tensor([[1.1024e+29, 4.5664e-41, 1.1024e+29, 4.5664e-41],\n",
      "        [8.6248e-07, 3.0819e-41, 3.8824e+29, 4.5664e-41]])\n",
      " \n"
     ]
    }
   ],
   "source": [
    "print_val(torch.Tensor(2,4))"
   ]
  },
  {
   "cell_type": "code",
   "execution_count": 11,
   "metadata": {},
   "outputs": [
    {
     "name": "stdout",
     "output_type": "stream",
     "text": [
      "Type: <class 'torch.Tensor'>\n",
      "Shape: torch.Size([2, 3])\n",
      "값:\n",
      "tensor([[1.1024e+29, 4.5664e-41, 1.1024e+29],\n",
      "        [4.5664e-41, 5.7020e+17, 4.5664e-41]])\n",
      " \n",
      "Type: <class 'torch.Tensor'>\n",
      "Shape: torch.Size([2, 2])\n",
      "값:\n",
      "tensor([[2., 3.],\n",
      "        [3., 4.]])\n",
      " \n"
     ]
    }
   ],
   "source": [
    "print_val(torch.Tensor(2,3))\n",
    "\n",
    "print_val(torch.Tensor([[2,3], [3,4]]))"
   ]
  },
  {
   "cell_type": "code",
   "execution_count": 12,
   "metadata": {},
   "outputs": [
    {
     "name": "stdout",
     "output_type": "stream",
     "text": [
      "Type: <class 'torch.Tensor'>\n",
      "Shape: torch.Size([2, 3])\n",
      "값:\n",
      "tensor([[1.1024e+29, 4.5664e-41, 1.1024e+29],\n",
      "        [4.5664e-41, 5.7019e+17, 4.5664e-41]])\n",
      " \n",
      "Type: <class 'torch.Tensor'>\n",
      "Shape: torch.Size([2, 3])\n",
      "값:\n",
      "tensor([[-2147483648,           0, -2147483648],\n",
      "        [          0, -2147483648,           0]], dtype=torch.int32)\n",
      " \n"
     ]
    }
   ],
   "source": [
    "# 텐서 타입 변환\n",
    "x = torch.FloatTensor(2,3)\n",
    "print_val(x)\n",
    "\n",
    "x=x.type_as(torch.IntTensor())\n",
    "print_val(x)"
   ]
  },
  {
   "cell_type": "code",
   "execution_count": 13,
   "metadata": {},
   "outputs": [
    {
     "data": {
      "text/plain": [
       "torch.Size([3, 4, 5])"
      ]
     },
     "execution_count": 13,
     "metadata": {},
     "output_type": "execute_result"
    }
   ],
   "source": [
    "# 텐서 크기 반환\n",
    "torch.FloatTensor(3,4,5).size()"
   ]
  },
  {
   "cell_type": "code",
   "execution_count": 15,
   "metadata": {},
   "outputs": [
    {
     "name": "stdout",
     "output_type": "stream",
     "text": [
      "Type: <type 'numpy.ndarray'>\n",
      "Shape: (2, 3)\n",
      "값:\n",
      "[[    65984607168 139961659462688 139955804307474]\n",
      " [    91754412912 139961988803880              24]]\n",
      " \n",
      "Type: <class 'torch.Tensor'>\n",
      "Shape: torch.Size([2, 3])\n",
      "값:\n",
      "tensor([[    65984607168, 139961659462688, 139955804307474],\n",
      "        [    91754412912, 139961988803880,              24]])\n",
      " \n"
     ]
    }
   ],
   "source": [
    "#numpy array -> torch tensor\n",
    "np_x = np.ndarray((2,3), dtype=int)\n",
    "print_val(np_x)\n",
    "\n",
    "x = torch.from_numpy(np_x)\n",
    "print_val(x)"
   ]
  },
  {
   "cell_type": "markdown",
   "metadata": {},
   "source": [
    "## 4. MNIST 데이터로드"
   ]
  },
  {
   "cell_type": "code",
   "execution_count": 32,
   "metadata": {},
   "outputs": [],
   "source": [
    "import torchvision.datasets as dset\n",
    "import torchvision.transforms as transforms\n",
    "from torch.utils.data import DataLoader\n",
    "import matplotlib.pyplot as plt\n",
    "from torch.autograd import Variable\n",
    "%matplotlib inline"
   ]
  },
  {
   "cell_type": "markdown",
   "metadata": {},
   "source": [
    "### 0) MNIST는 어떻게 생겼나?"
   ]
  },
  {
   "cell_type": "code",
   "execution_count": 20,
   "metadata": {},
   "outputs": [
    {
     "name": "stdout",
     "output_type": "stream",
     "text": [
      "torch.Size([1, 28, 28]) 5\n",
      "torch.Size([1, 28, 28]) 0\n",
      "60000\n",
      "mnist_train 길이: 60000\n",
      "5\n",
      "torch.Size([1, 28, 28])\n"
     ]
    },
    {
     "data": {
      "image/png": "[encoded data removed]",
      "text/plain": [
       "<Figure size 432x288 with 1 Axes>"
      ]
     },
     "metadata": {},
     "output_type": "display_data"
    },
    {
     "data": {
      "image/png": "[encoded data removed]",
      "text/plain": [
       "<Figure size 432x288 with 1 Axes>"
      ]
     },
     "metadata": {},
     "output_type": "display_data"
    },
    {
     "data": {
      "image/png": "[encoded data removed]",
      "text/plain": [
       "<Figure size 432x288 with 1 Axes>"
      ]
     },
     "metadata": {},
     "output_type": "display_data"
    }
   ],
   "source": [
    "# 1. MNIST 로드\n",
    "mnist_train=dset.MNIST(\"\", train=True, transform=transforms.ToTensor(),\n",
    "                      target_transform=None, download=True) \n",
    "#train용으로 쓰겠다.\n",
    "\n",
    "# 2. 그려보기\n",
    "# MNIST data 하나 형태 출력\n",
    "Image, label = mnist_train.__getitem__(0)\n",
    "print Image.size(), label\n",
    "\n",
    "Image, label = mnist_train[1]\n",
    "print Image.size(), label\n",
    "\n",
    "print mnist_train.__len__()\n",
    "print \"mnist_train 길이:\", len(mnist_train)\n",
    "\n",
    "#그리기\n",
    "print mnist_train[0][1] #label\n",
    "print mnist_train[0][0].size() #image\n",
    "\n",
    "for i in range(3):\n",
    "    img = mnist_train[i][0].numpy() #image 타입을 numpy로 변환 (1,28,28)\n",
    "    #print \"label:\",mnist_train[i][1]\n",
    "    plt.title(\"label: %d\" %mnist_train[i][1])\n",
    "    plt.imshow(img[0], cmap='gray')\n",
    "    plt.show()"
   ]
  },
  {
   "cell_type": "markdown",
   "metadata": {},
   "source": [
    "### 1) MNIST train, test dataset 가져오기"
   ]
  },
  {
   "cell_type": "code",
   "execution_count": 23,
   "metadata": {},
   "outputs": [
    {
     "name": "stdout",
     "output_type": "stream",
     "text": [
      "\n"
     ]
    }
   ],
   "source": [
    "# \"\": 현재 폴더에 MNIST 있음\n",
    "mnist_train=dset.MNIST(\"\", train=True, transform=transforms.ToTensor(),\n",
    "                      target_transform=None, download=True)\n",
    "#train 용으로 쓰겠다.\n",
    "\n",
    "mnist_test=dset.MNIST(\"\", train=False, transform=transforms.ToTensor(),\n",
    "                      target_transform=None, download=True)\n",
    "#test용으로 쓰겠다."
   ]
  },
  {
   "cell_type": "markdown",
   "metadata": {},
   "source": [
    "### 2) 대략적인 데이터 형태"
   ]
  },
  {
   "cell_type": "code",
   "execution_count": 26,
   "metadata": {},
   "outputs": [
    {
     "name": "stdout",
     "output_type": "stream",
     "text": [
      "mnist_train 길이: 60000\n",
      "mnist_test 길이: 10000\n",
      "Image data 형태: torch.Size([1, 28, 28])\n",
      "label: 5\n"
     ]
    },
    {
     "data": {
      "image/png": "[encoded data removed]",
      "text/plain": [
       "<Figure size 432x288 with 1 Axes>"
      ]
     },
     "metadata": {},
     "output_type": "display_data"
    }
   ],
   "source": [
    "print \"mnist_train 길이:\", len(mnist_train)\n",
    "print \"mnist_test 길이:\", len(mnist_test)\n",
    "\n",
    "#데이터 하나 형태\n",
    "Image, label = mnist_train.__getitem__(0) #0번째 데이터\n",
    "print \"Image data 형태:\", Image.size()\n",
    "print \"label:\", label\n",
    "\n",
    "#그리기\n",
    "img = Image.numpy() #image타입을 numpy로 변환 (1,28,28)\n",
    "plt.title(\"label: %d\" %label)\n",
    "plt.imshow(img[0], cmap='gray')\n",
    "plt.show()"
   ]
  },
  {
   "cell_type": "markdown",
   "metadata": {},
   "source": [
    "### 3) 데이터 로드함수\n",
    "#### 학습시킬 때 batch_size 단위로 끊어서 로드하기 위함"
   ]
  },
  {
   "cell_type": "code",
   "execution_count": 27,
   "metadata": {},
   "outputs": [],
   "source": [
    "batch_size=16"
   ]
  },
  {
   "cell_type": "code",
   "execution_count": 30,
   "metadata": {},
   "outputs": [],
   "source": [
    "train_loader = torch.utils.data.DataLoader(list(mnist_train)[:batch_size*100], batch_size=batch_size,\n",
    "                                               #mnist_train을 트레인 시키자.\n",
    "                                               shuffle=True, num_workers=2,\n",
    "                                               drop_last=True) # batch_size 만큼 나눌 때 나머지는 버려라\n",
    "test_loader = torch.utils.data.DataLoader(list(mnist_test), batch_size=batch_size,\n",
    "                                               shuffle=True, num_workers=2,\n",
    "                                               drop_last=True)"
   ]
  },
  {
   "cell_type": "markdown",
   "metadata": {},
   "source": [
    "### 4) 데이터 로드함수 이해하기"
   ]
  },
  {
   "cell_type": "code",
   "execution_count": 33,
   "metadata": {},
   "outputs": [
    {
     "name": "stdout",
     "output_type": "stream",
     "text": [
      "[0]\n",
      "한 번에 로드되는 데이터 크기: 16\n",
      "torch.Size([16, 28, 28])\n",
      "torch.Size([16])\n"
     ]
    },
    {
     "data": {
      "image/png": "[encoded data removed]",
      "text/plain": [
       "<Figure size 432x288 with 3 Axes>"
      ]
     },
     "metadata": {},
     "output_type": "display_data"
    },
    {
     "name": "stdout",
     "output_type": "stream",
     "text": [
      "[1]\n",
      "한 번에 로드되는 데이터 크기: 16\n",
      "torch.Size([16, 28, 28])\n",
      "torch.Size([16])\n"
     ]
    },
    {
     "data": {
      "image/png": "[encoded data removed]",
      "text/plain": [
       "<Figure size 432x288 with 3 Axes>"
      ]
     },
     "metadata": {},
     "output_type": "display_data"
    },
    {
     "name": "stdout",
     "output_type": "stream",
     "text": [
      "[2]\n",
      "한 번에 로드되는 데이터 크기: 16\n",
      "torch.Size([16, 28, 28])\n",
      "torch.Size([16])\n"
     ]
    },
    {
     "data": {
      "image/png": "[encoded data removed]",
      "text/plain": [
       "<Figure size 432x288 with 3 Axes>"
      ]
     },
     "metadata": {},
     "output_type": "display_data"
    },
    {
     "name": "stdout",
     "output_type": "stream",
     "text": [
      "[3]\n",
      "한 번에 로드되는 데이터 크기: 16\n",
      "torch.Size([16, 28, 28])\n",
      "torch.Size([16])\n"
     ]
    },
    {
     "data": {
      "image/png": "[encoded data removed]",
      "text/plain": [
       "<Figure size 432x288 with 3 Axes>"
      ]
     },
     "metadata": {},
     "output_type": "display_data"
    },
    {
     "name": "stdout",
     "output_type": "stream",
     "text": [
      "[4]\n",
      "한 번에 로드되는 데이터 크기: 16\n",
      "torch.Size([16, 28, 28])\n",
      "torch.Size([16])\n"
     ]
    },
    {
     "data": {
      "image/png": "[encoded data removed]",
      "text/plain": [
       "<Figure size 432x288 with 3 Axes>"
      ]
     },
     "metadata": {},
     "output_type": "display_data"
    },
    {
     "name": "stdout",
     "output_type": "stream",
     "text": [
      "[5]\n",
      "한 번에 로드되는 데이터 크기: 16\n",
      "torch.Size([16, 28, 28])\n",
      "torch.Size([16])\n"
     ]
    },
    {
     "data": {
      "image/png": "[encoded data removed]",
      "text/plain": [
       "<Figure size 432x288 with 3 Axes>"
      ]
     },
     "metadata": {},
     "output_type": "display_data"
    }
   ],
   "source": [
    "n = 3 #샘플로 그려볼 데이터 개수\n",
    "for i, [imgs, labels] in enumerate(test_loader): #batch_size 만큼\n",
    "    if i>5:\n",
    "        break\n",
    "    \n",
    "    print \"[%d]\" %i\n",
    "    print \"한 번에 로드되는 데이터 크기:\", len(imgs)\n",
    "    \n",
    "    #GPU에 로드되기 위함. 만약 CPU로 설정되어 있다면 자동으로(?) CPU로 로드됨\n",
    "    x = Variable(imgs)#.cuda()  #(batch_size, 1, 28, 28)\n",
    "    x = x.reshape((x.shape[0], x.shape[2], x.shape[3])) #(batch_size, 1, 28, 28) -> (batch_size, 28, 28)\n",
    "    y_ = Variable(labels) #.cuda()  #(batch_size)\n",
    "    \n",
    "    print x.shape\n",
    "    print y_.shape\n",
    "    \n",
    "    #그리기\n",
    "    for j in range(n):\n",
    "        img = imgs[j].numpy() #image 타입을 numpy로 변환 (1,28,28)\n",
    "        img = img.reshape((img.shape[1], img.shape[2])) #(1,28,28) -> (28,28)\n",
    "        #print img.shape\n",
    "        \n",
    "        plt.subplot(1, n, j+1) #(1,3) 형태 플랏의 j 번째 자리에 그리겠다.\n",
    "        plt.imshow(img, cmap=\"gray\")\n",
    "        plt.title(\"label:%d\" %labels[j])\n",
    "    plt.show()"
   ]
  }
 ],
 "metadata": {
  "kernelspec": {
   "display_name": "conda_pytorch_p27",
   "language": "python",
   "name": "conda_pytorch_p27"
  },
  "language_info": {
   "codemirror_mode": {
    "name": "ipython",
    "version": 2
   },
   "file_extension": ".py",
   "mimetype": "text/x-python",
   "name": "python",
   "nbconvert_exporter": "python",
   "pygments_lexer": "ipython2",
   "version": "2.7.15"
  }
 },
 "nbformat": 4,
 "nbformat_minor": 4
}
